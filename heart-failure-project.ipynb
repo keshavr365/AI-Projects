{
 "cells": [
  {
   "cell_type": "markdown",
   "id": "84da6ac7",
   "metadata": {
    "papermill": {
     "duration": 0.008722,
     "end_time": "2024-03-19T05:45:32.321885",
     "exception": false,
     "start_time": "2024-03-19T05:45:32.313163",
     "status": "completed"
    },
    "tags": []
   },
   "source": [
    "Hello! My name is Keshav and this is my attempt at the heart failure prediction dataset."
   ]
  },
  {
   "cell_type": "markdown",
   "id": "876a198a",
   "metadata": {
    "papermill": {
     "duration": 0.00703,
     "end_time": "2024-03-19T05:45:32.336707",
     "exception": false,
     "start_time": "2024-03-19T05:45:32.329677",
     "status": "completed"
    },
    "tags": []
   },
   "source": [
    "**Context**\n",
    "\n",
    "Cardiovascular diseases (CVDs) are the number 1 cause of death globally, taking an estimated 17.9 million lives each year, which accounts for 31% of all deaths worldwide. Four out of 5CVD deaths are due to heart attacks and strokes, and one-third of these deaths occur prematurely in people under 70 years of age. Heart failure is a common event caused by CVDs and this dataset contains 11 features that can be used to predict a possible heart disease.\n",
    "\n",
    "People with cardiovascular disease or who are at high cardiovascular risk (due to the presence of one or more risk factors such as hypertension, diabetes, hyperlipidaemia or already established disease) need early detection and management wherein a machine learning model can be of great help."
   ]
  },
  {
   "cell_type": "markdown",
   "id": "dd19b784",
   "metadata": {
    "papermill": {
     "duration": 0.007081,
     "end_time": "2024-03-19T05:45:32.351731",
     "exception": false,
     "start_time": "2024-03-19T05:45:32.344650",
     "status": "completed"
    },
    "tags": []
   },
   "source": [
    "**Attribute Information**\n",
    "\n",
    "Age: age of the patient [years]\n",
    "\n",
    "Sex: sex of the patient [M: Male, F: Female]\n",
    "\n",
    "ChestPainType: chest pain type [TA: Typical Angina, ATA: Atypical Angina, NAP: Non-Anginal Pain, ASY: Asymptomatic]\n",
    "\n",
    "RestingBP: resting blood pressure [mm Hg]\n",
    "\n",
    "Cholesterol: serum cholesterol [mm/dl]\n",
    "\n",
    "FastingBS: fasting blood sugar [1: if FastingBS > 120 mg/dl, 0: otherwise]\n",
    "\n",
    "RestingECG: resting electrocardiogram results [Normal: Normal, ST: having ST-T wave abnormality (T wave inversions and/or ST elevation or depression of > 0.05 mV), LVH: showing probable or definite left ventricular hypertrophy by Estes' criteria]\n",
    "\n",
    "MaxHR: maximum heart rate achieved [Numeric value between 60 and 202]\n",
    "\n",
    "ExerciseAngina: exercise-induced angina [Y: Yes, N: No]\n",
    "\n",
    "Oldpeak: oldpeak = ST [Numeric value measured in depression]\n",
    "\n",
    "ST_Slope: the slope of the peak exercise ST segment [Up: upsloping, Flat: flat, Down: downsloping]\n",
    "\n",
    "HeartDisease: output class [1: heart disease, 0: Normal]"
   ]
  },
  {
   "cell_type": "markdown",
   "id": "5bd89a28",
   "metadata": {
    "papermill": {
     "duration": 0.007312,
     "end_time": "2024-03-19T05:45:32.366755",
     "exception": false,
     "start_time": "2024-03-19T05:45:32.359443",
     "status": "completed"
    },
    "tags": []
   },
   "source": [
    "The first step is to import all relevant libraries. I used pandas and seaborn for data visualization, numpy for data modification, and sklearn for all of the models used."
   ]
  },
  {
   "cell_type": "code",
   "execution_count": 1,
   "id": "404a1cd2",
   "metadata": {
    "execution": {
     "iopub.execute_input": "2024-03-19T05:45:32.384240Z",
     "iopub.status.busy": "2024-03-19T05:45:32.383631Z",
     "iopub.status.idle": "2024-03-19T05:45:34.011322Z",
     "shell.execute_reply": "2024-03-19T05:45:34.010344Z"
    },
    "papermill": {
     "duration": 1.639958,
     "end_time": "2024-03-19T05:45:34.014312",
     "exception": false,
     "start_time": "2024-03-19T05:45:32.374354",
     "status": "completed"
    },
    "tags": []
   },
   "outputs": [],
   "source": [
    "import pandas as pd\n",
    "import seaborn as sns\n",
    "import numpy as np\n",
    "import matplotlib.pyplot as plt\n",
    "from sklearn.preprocessing import LabelEncoder\n",
    "from sklearn.model_selection import train_test_split\n",
    "from sklearn.linear_model import LinearRegression\n",
    "from sklearn.linear_model import LogisticRegression\n",
    "from sklearn.metrics import accuracy_score, confusion_matrix\n",
    "from sklearn import metrics\n",
    "from sklearn.tree import DecisionTreeClassifier\n",
    "from sklearn import tree\n",
    "from sklearn.ensemble import RandomForestClassifier\n",
    "from sklearn.model_selection import GridSearchCV\n",
    "from sklearn.naive_bayes import GaussianNB"
   ]
  },
  {
   "cell_type": "markdown",
   "id": "05d5834b",
   "metadata": {
    "papermill": {
     "duration": 0.007309,
     "end_time": "2024-03-19T05:45:34.029023",
     "exception": false,
     "start_time": "2024-03-19T05:45:34.021714",
     "status": "completed"
    },
    "tags": []
   },
   "source": [
    "Next, I worked on analyzing the data, paying attention to core attributes and null values"
   ]
  },
  {
   "cell_type": "code",
   "execution_count": 2,
   "id": "2a88ab68",
   "metadata": {
    "execution": {
     "iopub.execute_input": "2024-03-19T05:45:34.046280Z",
     "iopub.status.busy": "2024-03-19T05:45:34.045867Z",
     "iopub.status.idle": "2024-03-19T05:45:34.065678Z",
     "shell.execute_reply": "2024-03-19T05:45:34.064929Z"
    },
    "papermill": {
     "duration": 0.031482,
     "end_time": "2024-03-19T05:45:34.067841",
     "exception": false,
     "start_time": "2024-03-19T05:45:34.036359",
     "status": "completed"
    },
    "tags": []
   },
   "outputs": [],
   "source": [
    "df = pd.read_csv('../input/heart-failure-prediction/heart.csv')"
   ]
  },
  {
   "cell_type": "code",
   "execution_count": 3,
   "id": "d1be3f18",
   "metadata": {
    "execution": {
     "iopub.execute_input": "2024-03-19T05:45:34.085017Z",
     "iopub.status.busy": "2024-03-19T05:45:34.084375Z",
     "iopub.status.idle": "2024-03-19T05:45:34.107598Z",
     "shell.execute_reply": "2024-03-19T05:45:34.106898Z"
    },
    "papermill": {
     "duration": 0.034793,
     "end_time": "2024-03-19T05:45:34.110160",
     "exception": false,
     "start_time": "2024-03-19T05:45:34.075367",
     "status": "completed"
    },
    "tags": []
   },
   "outputs": [
    {
     "data": {
      "text/html": [
       "<div>\n",
       "<style scoped>\n",
       "    .dataframe tbody tr th:only-of-type {\n",
       "        vertical-align: middle;\n",
       "    }\n",
       "\n",
       "    .dataframe tbody tr th {\n",
       "        vertical-align: top;\n",
       "    }\n",
       "\n",
       "    .dataframe thead th {\n",
       "        text-align: right;\n",
       "    }\n",
       "</style>\n",
       "<table border=\"1\" class=\"dataframe\">\n",
       "  <thead>\n",
       "    <tr style=\"text-align: right;\">\n",
       "      <th></th>\n",
       "      <th>Age</th>\n",
       "      <th>Sex</th>\n",
       "      <th>ChestPainType</th>\n",
       "      <th>RestingBP</th>\n",
       "      <th>Cholesterol</th>\n",
       "      <th>FastingBS</th>\n",
       "      <th>RestingECG</th>\n",
       "      <th>MaxHR</th>\n",
       "      <th>ExerciseAngina</th>\n",
       "      <th>Oldpeak</th>\n",
       "      <th>ST_Slope</th>\n",
       "      <th>HeartDisease</th>\n",
       "    </tr>\n",
       "  </thead>\n",
       "  <tbody>\n",
       "    <tr>\n",
       "      <th>0</th>\n",
       "      <td>40</td>\n",
       "      <td>M</td>\n",
       "      <td>ATA</td>\n",
       "      <td>140</td>\n",
       "      <td>289</td>\n",
       "      <td>0</td>\n",
       "      <td>Normal</td>\n",
       "      <td>172</td>\n",
       "      <td>N</td>\n",
       "      <td>0.0</td>\n",
       "      <td>Up</td>\n",
       "      <td>0</td>\n",
       "    </tr>\n",
       "    <tr>\n",
       "      <th>1</th>\n",
       "      <td>49</td>\n",
       "      <td>F</td>\n",
       "      <td>NAP</td>\n",
       "      <td>160</td>\n",
       "      <td>180</td>\n",
       "      <td>0</td>\n",
       "      <td>Normal</td>\n",
       "      <td>156</td>\n",
       "      <td>N</td>\n",
       "      <td>1.0</td>\n",
       "      <td>Flat</td>\n",
       "      <td>1</td>\n",
       "    </tr>\n",
       "    <tr>\n",
       "      <th>2</th>\n",
       "      <td>37</td>\n",
       "      <td>M</td>\n",
       "      <td>ATA</td>\n",
       "      <td>130</td>\n",
       "      <td>283</td>\n",
       "      <td>0</td>\n",
       "      <td>ST</td>\n",
       "      <td>98</td>\n",
       "      <td>N</td>\n",
       "      <td>0.0</td>\n",
       "      <td>Up</td>\n",
       "      <td>0</td>\n",
       "    </tr>\n",
       "    <tr>\n",
       "      <th>3</th>\n",
       "      <td>48</td>\n",
       "      <td>F</td>\n",
       "      <td>ASY</td>\n",
       "      <td>138</td>\n",
       "      <td>214</td>\n",
       "      <td>0</td>\n",
       "      <td>Normal</td>\n",
       "      <td>108</td>\n",
       "      <td>Y</td>\n",
       "      <td>1.5</td>\n",
       "      <td>Flat</td>\n",
       "      <td>1</td>\n",
       "    </tr>\n",
       "    <tr>\n",
       "      <th>4</th>\n",
       "      <td>54</td>\n",
       "      <td>M</td>\n",
       "      <td>NAP</td>\n",
       "      <td>150</td>\n",
       "      <td>195</td>\n",
       "      <td>0</td>\n",
       "      <td>Normal</td>\n",
       "      <td>122</td>\n",
       "      <td>N</td>\n",
       "      <td>0.0</td>\n",
       "      <td>Up</td>\n",
       "      <td>0</td>\n",
       "    </tr>\n",
       "  </tbody>\n",
       "</table>\n",
       "</div>"
      ],
      "text/plain": [
       "   Age Sex ChestPainType  RestingBP  Cholesterol  FastingBS RestingECG  MaxHR  \\\n",
       "0   40   M           ATA        140          289          0     Normal    172   \n",
       "1   49   F           NAP        160          180          0     Normal    156   \n",
       "2   37   M           ATA        130          283          0         ST     98   \n",
       "3   48   F           ASY        138          214          0     Normal    108   \n",
       "4   54   M           NAP        150          195          0     Normal    122   \n",
       "\n",
       "  ExerciseAngina  Oldpeak ST_Slope  HeartDisease  \n",
       "0              N      0.0       Up             0  \n",
       "1              N      1.0     Flat             1  \n",
       "2              N      0.0       Up             0  \n",
       "3              Y      1.5     Flat             1  \n",
       "4              N      0.0       Up             0  "
      ]
     },
     "execution_count": 3,
     "metadata": {},
     "output_type": "execute_result"
    }
   ],
   "source": [
    "df.head()"
   ]
  },
  {
   "cell_type": "code",
   "execution_count": 4,
   "id": "6d4c6434",
   "metadata": {
    "execution": {
     "iopub.execute_input": "2024-03-19T05:45:34.127688Z",
     "iopub.status.busy": "2024-03-19T05:45:34.127049Z",
     "iopub.status.idle": "2024-03-19T05:45:34.132641Z",
     "shell.execute_reply": "2024-03-19T05:45:34.131911Z"
    },
    "papermill": {
     "duration": 0.016732,
     "end_time": "2024-03-19T05:45:34.134546",
     "exception": false,
     "start_time": "2024-03-19T05:45:34.117814",
     "status": "completed"
    },
    "tags": []
   },
   "outputs": [
    {
     "data": {
      "text/plain": [
       "Index(['Age', 'Sex', 'ChestPainType', 'RestingBP', 'Cholesterol', 'FastingBS',\n",
       "       'RestingECG', 'MaxHR', 'ExerciseAngina', 'Oldpeak', 'ST_Slope',\n",
       "       'HeartDisease'],\n",
       "      dtype='object')"
      ]
     },
     "execution_count": 4,
     "metadata": {},
     "output_type": "execute_result"
    }
   ],
   "source": [
    "df.columns"
   ]
  },
  {
   "cell_type": "code",
   "execution_count": 5,
   "id": "84281303",
   "metadata": {
    "execution": {
     "iopub.execute_input": "2024-03-19T05:45:34.151778Z",
     "iopub.status.busy": "2024-03-19T05:45:34.151122Z",
     "iopub.status.idle": "2024-03-19T05:45:34.180967Z",
     "shell.execute_reply": "2024-03-19T05:45:34.180001Z"
    },
    "papermill": {
     "duration": 0.040914,
     "end_time": "2024-03-19T05:45:34.183234",
     "exception": false,
     "start_time": "2024-03-19T05:45:34.142320",
     "status": "completed"
    },
    "tags": []
   },
   "outputs": [
    {
     "name": "stdout",
     "output_type": "stream",
     "text": [
      "<class 'pandas.core.frame.DataFrame'>\n",
      "RangeIndex: 918 entries, 0 to 917\n",
      "Data columns (total 12 columns):\n",
      " #   Column          Non-Null Count  Dtype  \n",
      "---  ------          --------------  -----  \n",
      " 0   Age             918 non-null    int64  \n",
      " 1   Sex             918 non-null    object \n",
      " 2   ChestPainType   918 non-null    object \n",
      " 3   RestingBP       918 non-null    int64  \n",
      " 4   Cholesterol     918 non-null    int64  \n",
      " 5   FastingBS       918 non-null    int64  \n",
      " 6   RestingECG      918 non-null    object \n",
      " 7   MaxHR           918 non-null    int64  \n",
      " 8   ExerciseAngina  918 non-null    object \n",
      " 9   Oldpeak         918 non-null    float64\n",
      " 10  ST_Slope        918 non-null    object \n",
      " 11  HeartDisease    918 non-null    int64  \n",
      "dtypes: float64(1), int64(6), object(5)\n",
      "memory usage: 86.2+ KB\n"
     ]
    }
   ],
   "source": [
    "df.info()"
   ]
  },
  {
   "cell_type": "code",
   "execution_count": 6,
   "id": "29b9f0d0",
   "metadata": {
    "execution": {
     "iopub.execute_input": "2024-03-19T05:45:34.200743Z",
     "iopub.status.busy": "2024-03-19T05:45:34.200103Z",
     "iopub.status.idle": "2024-03-19T05:45:34.233751Z",
     "shell.execute_reply": "2024-03-19T05:45:34.233018Z"
    },
    "papermill": {
     "duration": 0.04477,
     "end_time": "2024-03-19T05:45:34.235802",
     "exception": false,
     "start_time": "2024-03-19T05:45:34.191032",
     "status": "completed"
    },
    "tags": []
   },
   "outputs": [
    {
     "data": {
      "text/html": [
       "<div>\n",
       "<style scoped>\n",
       "    .dataframe tbody tr th:only-of-type {\n",
       "        vertical-align: middle;\n",
       "    }\n",
       "\n",
       "    .dataframe tbody tr th {\n",
       "        vertical-align: top;\n",
       "    }\n",
       "\n",
       "    .dataframe thead th {\n",
       "        text-align: right;\n",
       "    }\n",
       "</style>\n",
       "<table border=\"1\" class=\"dataframe\">\n",
       "  <thead>\n",
       "    <tr style=\"text-align: right;\">\n",
       "      <th></th>\n",
       "      <th>Age</th>\n",
       "      <th>RestingBP</th>\n",
       "      <th>Cholesterol</th>\n",
       "      <th>FastingBS</th>\n",
       "      <th>MaxHR</th>\n",
       "      <th>Oldpeak</th>\n",
       "      <th>HeartDisease</th>\n",
       "    </tr>\n",
       "  </thead>\n",
       "  <tbody>\n",
       "    <tr>\n",
       "      <th>count</th>\n",
       "      <td>918.000000</td>\n",
       "      <td>918.000000</td>\n",
       "      <td>918.000000</td>\n",
       "      <td>918.000000</td>\n",
       "      <td>918.000000</td>\n",
       "      <td>918.000000</td>\n",
       "      <td>918.000000</td>\n",
       "    </tr>\n",
       "    <tr>\n",
       "      <th>mean</th>\n",
       "      <td>53.510893</td>\n",
       "      <td>132.396514</td>\n",
       "      <td>198.799564</td>\n",
       "      <td>0.233115</td>\n",
       "      <td>136.809368</td>\n",
       "      <td>0.887364</td>\n",
       "      <td>0.553377</td>\n",
       "    </tr>\n",
       "    <tr>\n",
       "      <th>std</th>\n",
       "      <td>9.432617</td>\n",
       "      <td>18.514154</td>\n",
       "      <td>109.384145</td>\n",
       "      <td>0.423046</td>\n",
       "      <td>25.460334</td>\n",
       "      <td>1.066570</td>\n",
       "      <td>0.497414</td>\n",
       "    </tr>\n",
       "    <tr>\n",
       "      <th>min</th>\n",
       "      <td>28.000000</td>\n",
       "      <td>0.000000</td>\n",
       "      <td>0.000000</td>\n",
       "      <td>0.000000</td>\n",
       "      <td>60.000000</td>\n",
       "      <td>-2.600000</td>\n",
       "      <td>0.000000</td>\n",
       "    </tr>\n",
       "    <tr>\n",
       "      <th>25%</th>\n",
       "      <td>47.000000</td>\n",
       "      <td>120.000000</td>\n",
       "      <td>173.250000</td>\n",
       "      <td>0.000000</td>\n",
       "      <td>120.000000</td>\n",
       "      <td>0.000000</td>\n",
       "      <td>0.000000</td>\n",
       "    </tr>\n",
       "    <tr>\n",
       "      <th>50%</th>\n",
       "      <td>54.000000</td>\n",
       "      <td>130.000000</td>\n",
       "      <td>223.000000</td>\n",
       "      <td>0.000000</td>\n",
       "      <td>138.000000</td>\n",
       "      <td>0.600000</td>\n",
       "      <td>1.000000</td>\n",
       "    </tr>\n",
       "    <tr>\n",
       "      <th>75%</th>\n",
       "      <td>60.000000</td>\n",
       "      <td>140.000000</td>\n",
       "      <td>267.000000</td>\n",
       "      <td>0.000000</td>\n",
       "      <td>156.000000</td>\n",
       "      <td>1.500000</td>\n",
       "      <td>1.000000</td>\n",
       "    </tr>\n",
       "    <tr>\n",
       "      <th>max</th>\n",
       "      <td>77.000000</td>\n",
       "      <td>200.000000</td>\n",
       "      <td>603.000000</td>\n",
       "      <td>1.000000</td>\n",
       "      <td>202.000000</td>\n",
       "      <td>6.200000</td>\n",
       "      <td>1.000000</td>\n",
       "    </tr>\n",
       "  </tbody>\n",
       "</table>\n",
       "</div>"
      ],
      "text/plain": [
       "              Age   RestingBP  Cholesterol   FastingBS       MaxHR  \\\n",
       "count  918.000000  918.000000   918.000000  918.000000  918.000000   \n",
       "mean    53.510893  132.396514   198.799564    0.233115  136.809368   \n",
       "std      9.432617   18.514154   109.384145    0.423046   25.460334   \n",
       "min     28.000000    0.000000     0.000000    0.000000   60.000000   \n",
       "25%     47.000000  120.000000   173.250000    0.000000  120.000000   \n",
       "50%     54.000000  130.000000   223.000000    0.000000  138.000000   \n",
       "75%     60.000000  140.000000   267.000000    0.000000  156.000000   \n",
       "max     77.000000  200.000000   603.000000    1.000000  202.000000   \n",
       "\n",
       "          Oldpeak  HeartDisease  \n",
       "count  918.000000    918.000000  \n",
       "mean     0.887364      0.553377  \n",
       "std      1.066570      0.497414  \n",
       "min     -2.600000      0.000000  \n",
       "25%      0.000000      0.000000  \n",
       "50%      0.600000      1.000000  \n",
       "75%      1.500000      1.000000  \n",
       "max      6.200000      1.000000  "
      ]
     },
     "execution_count": 6,
     "metadata": {},
     "output_type": "execute_result"
    }
   ],
   "source": [
    "df.describe()"
   ]
  },
  {
   "cell_type": "code",
   "execution_count": 7,
   "id": "3c0dc419",
   "metadata": {
    "execution": {
     "iopub.execute_input": "2024-03-19T05:45:34.254431Z",
     "iopub.status.busy": "2024-03-19T05:45:34.253750Z",
     "iopub.status.idle": "2024-03-19T05:45:34.579170Z",
     "shell.execute_reply": "2024-03-19T05:45:34.578170Z"
    },
    "papermill": {
     "duration": 0.337258,
     "end_time": "2024-03-19T05:45:34.581720",
     "exception": false,
     "start_time": "2024-03-19T05:45:34.244462",
     "status": "completed"
    },
    "tags": []
   },
   "outputs": [
    {
     "data": {
      "image/png": "[encoded data removed]",
      "text/plain": [
       "<Figure size 432x288 with 2 Axes>"
      ]
     },
     "metadata": {
      "needs_background": "light"
     },
     "output_type": "display_data"
    }
   ],
   "source": [
    "sns.heatmap(df.corr(), vmin=0, cmap=\"YlGnBu\");"
   ]
  },
  {
   "cell_type": "code",
   "execution_count": 8,
   "id": "faebe099",
   "metadata": {
    "execution": {
     "iopub.execute_input": "2024-03-19T05:45:34.600340Z",
     "iopub.status.busy": "2024-03-19T05:45:34.599949Z",
     "iopub.status.idle": "2024-03-19T05:45:40.536525Z",
     "shell.execute_reply": "2024-03-19T05:45:40.534920Z"
    },
    "papermill": {
     "duration": 5.948467,
     "end_time": "2024-03-19T05:45:40.538813",
     "exception": false,
     "start_time": "2024-03-19T05:45:34.590346",
     "status": "completed"
    },
    "tags": []
   },
   "outputs": [
    {
     "data": {
      "text/plain": [
       "<AxesSubplot:xlabel='HeartDisease', ylabel='count'>"
      ]
     },
     "execution_count": 8,
     "metadata": {},
     "output_type": "execute_result"
    },
    {
     "data": {
      "image/png": "[encoded data removed]",
      "text/plain": [
       "<Figure size 1440x1080 with 9 Axes>"
      ]
     },
     "metadata": {
      "needs_background": "light"
     },
     "output_type": "display_data"
    }
   ],
   "source": [
    "fig, ax =plt.subplots(3,3, figsize=(20,15))\n",
    "sns.countplot(data=df, x='Age', ax=ax[0,0])\n",
    "sns.countplot(data=df, x='RestingBP', ax=ax[0,1])\n",
    "sns.countplot(data=df, x='Cholesterol', ax=ax[0,2])\n",
    "sns.countplot(data=df, x='FastingBS', ax=ax[1,0])\n",
    "sns.countplot(data=df, x='MaxHR', ax=ax[1,1])\n",
    "sns.countplot(data=df, x='Oldpeak', ax=ax[1,2])\n",
    "sns.countplot(data=df, x='HeartDisease', ax=ax[2,0])"
   ]
  },
  {
   "cell_type": "markdown",
   "id": "877a1f76",
   "metadata": {
    "papermill": {
     "duration": 0.009869,
     "end_time": "2024-03-19T05:45:40.559047",
     "exception": false,
     "start_time": "2024-03-19T05:45:40.549178",
     "status": "completed"
    },
    "tags": []
   },
   "source": [
    "**Now, we have to prepare the model:**"
   ]
  },
  {
   "cell_type": "code",
   "execution_count": 9,
   "id": "0e9943f3",
   "metadata": {
    "execution": {
     "iopub.execute_input": "2024-03-19T05:45:40.581183Z",
     "iopub.status.busy": "2024-03-19T05:45:40.580721Z",
     "iopub.status.idle": "2024-03-19T05:45:40.598383Z",
     "shell.execute_reply": "2024-03-19T05:45:40.596869Z"
    },
    "papermill": {
     "duration": 0.031525,
     "end_time": "2024-03-19T05:45:40.601068",
     "exception": false,
     "start_time": "2024-03-19T05:45:40.569543",
     "status": "completed"
    },
    "tags": []
   },
   "outputs": [],
   "source": [
    "x_val = df.drop(\"HeartDisease\",axis=1)\n",
    "y_val = df[\"HeartDisease\"]\n",
    "\n",
    "x_train, x_test, y_train, y_test = train_test_split(x_val, y_val, test_size=0.3, random_state=42)\n",
    "\n",
    "# encode the non-numerical data\n",
    "label = LabelEncoder()\n",
    "encoder = ['Sex', 'ChestPainType', 'FastingBS', 'RestingECG', 'ExerciseAngina',\n",
    "        'ST_Slope']\n",
    "for i in encoder:\n",
    "    x_train[i] = label.fit_transform(x_train[i])\n",
    "    x_test[i] = label.transform(x_test[i])"
   ]
  },
  {
   "cell_type": "markdown",
   "id": "0468cda7",
   "metadata": {
    "papermill": {
     "duration": 0.009101,
     "end_time": "2024-03-19T05:45:40.619989",
     "exception": false,
     "start_time": "2024-03-19T05:45:40.610888",
     "status": "completed"
    },
    "tags": []
   },
   "source": [
    "**Creating the models (without parameters which will be done later)**"
   ]
  },
  {
   "cell_type": "code",
   "execution_count": 10,
   "id": "8b7f042f",
   "metadata": {
    "execution": {
     "iopub.execute_input": "2024-03-19T05:45:40.640657Z",
     "iopub.status.busy": "2024-03-19T05:45:40.640246Z",
     "iopub.status.idle": "2024-03-19T05:45:40.645213Z",
     "shell.execute_reply": "2024-03-19T05:45:40.644082Z"
    },
    "papermill": {
     "duration": 0.017836,
     "end_time": "2024-03-19T05:45:40.647126",
     "exception": false,
     "start_time": "2024-03-19T05:45:40.629290",
     "status": "completed"
    },
    "tags": []
   },
   "outputs": [],
   "source": [
    "lr = LogisticRegression()\n",
    "dt = DecisionTreeClassifier()\n",
    "rf = RandomForestClassifier()\n",
    "gnb = GaussianNB()"
   ]
  },
  {
   "cell_type": "markdown",
   "id": "dbd7ebe6",
   "metadata": {
    "papermill": {
     "duration": 0.00915,
     "end_time": "2024-03-19T05:45:40.666181",
     "exception": false,
     "start_time": "2024-03-19T05:45:40.657031",
     "status": "completed"
    },
    "tags": []
   },
   "source": [
    "**Now, I use hypertuning to find the best set of parameters for each model**"
   ]
  },
  {
   "cell_type": "code",
   "execution_count": 11,
   "id": "1d3bab83",
   "metadata": {
    "execution": {
     "iopub.execute_input": "2024-03-19T05:45:40.687136Z",
     "iopub.status.busy": "2024-03-19T05:45:40.686433Z",
     "iopub.status.idle": "2024-03-19T05:45:40.694055Z",
     "shell.execute_reply": "2024-03-19T05:45:40.692958Z"
    },
    "papermill": {
     "duration": 0.020632,
     "end_time": "2024-03-19T05:45:40.696615",
     "exception": false,
     "start_time": "2024-03-19T05:45:40.675983",
     "status": "completed"
    },
    "tags": []
   },
   "outputs": [],
   "source": [
    "# set of model params\n",
    "model_params = {\n",
    "    'LR': {\n",
    "        'max_iter': [800, 900, 1000],\n",
    "        'C': [1.0, 10.0],\n",
    "        'penalty': ['l1', 'l2', 'elasticnet', 'none']\n",
    "    },\n",
    "    'DT':{\n",
    "        'criterion': ['gini', 'entropy'],\n",
    "        'max_depth': [2, 3, 4, 5, 6, 7],\n",
    "        'splitter' : ['best', 'random']\n",
    "    },\n",
    "    'RF': {\n",
    "        'max_features': ['log2', 'sqrt'],\n",
    "        'n_estimators': [100, 200, 300, 400, 500],\n",
    "        'max_depth': [2, 3, 4],\n",
    "        'criterion': ['gini', 'entropy']\n",
    "    },\n",
    "    'GNB':{\n",
    "        'var_smoothing': np.logspace(0,-9, num=100)\n",
    "    }\n",
    "}"
   ]
  },
  {
   "cell_type": "markdown",
   "id": "60d7492c",
   "metadata": {
    "papermill": {
     "duration": 0.009353,
     "end_time": "2024-03-19T05:45:40.715541",
     "exception": false,
     "start_time": "2024-03-19T05:45:40.706188",
     "status": "completed"
    },
    "tags": []
   },
   "source": [
    "**Now, I can hypertune each model**"
   ]
  },
  {
   "cell_type": "code",
   "execution_count": 12,
   "id": "988c2118",
   "metadata": {
    "execution": {
     "iopub.execute_input": "2024-03-19T05:45:40.736364Z",
     "iopub.status.busy": "2024-03-19T05:45:40.735508Z",
     "iopub.status.idle": "2024-03-19T05:45:40.741186Z",
     "shell.execute_reply": "2024-03-19T05:45:40.740185Z"
    },
    "papermill": {
     "duration": 0.018597,
     "end_time": "2024-03-19T05:45:40.743579",
     "exception": false,
     "start_time": "2024-03-19T05:45:40.724982",
     "status": "completed"
    },
    "tags": []
   },
   "outputs": [],
   "source": [
    "def hypTune(model, param):\n",
    "    scorer = metrics.make_scorer(metrics.roc_auc_score, needs_proba=True)\n",
    "    new_mod = GridSearchCV(model, param_grid=param, scoring=scorer,\n",
    "                         n_jobs=-1, cv=5, verbose=1)\n",
    "    return new_mod"
   ]
  },
  {
   "cell_type": "code",
   "execution_count": 13,
   "id": "478f78cf",
   "metadata": {
    "execution": {
     "iopub.execute_input": "2024-03-19T05:45:40.764211Z",
     "iopub.status.busy": "2024-03-19T05:45:40.763766Z",
     "iopub.status.idle": "2024-03-19T05:46:45.667265Z",
     "shell.execute_reply": "2024-03-19T05:46:45.665994Z"
    },
    "papermill": {
     "duration": 64.925376,
     "end_time": "2024-03-19T05:46:45.678566",
     "exception": false,
     "start_time": "2024-03-19T05:45:40.753190",
     "status": "completed"
    },
    "tags": []
   },
   "outputs": [
    {
     "name": "stdout",
     "output_type": "stream",
     "text": [
      "Fitting 5 folds for each of 60 candidates, totalling 300 fits\n",
      "RF Best params: {'criterion': 'entropy', 'max_depth': 4, 'max_features': 'log2', 'n_estimators': 400}\n",
      "RF Best score: 0.922363790271697\n"
     ]
    }
   ],
   "source": [
    "# random forest\n",
    "rf_csv = hypTune(rf, model_params[\"RF\"])\n",
    "rf_csv.fit(x_train, y_train)\n",
    "print(f'RF Best params: {rf_csv.best_params_}')\n",
    "print(f'RF Best score: {rf_csv.best_score_}')\n",
    "\n",
    "rf = rf_csv.best_estimator_"
   ]
  },
  {
   "cell_type": "code",
   "execution_count": 14,
   "id": "694c1ac4",
   "metadata": {
    "execution": {
     "iopub.execute_input": "2024-03-19T05:46:45.699758Z",
     "iopub.status.busy": "2024-03-19T05:46:45.699331Z",
     "iopub.status.idle": "2024-03-19T05:46:49.474560Z",
     "shell.execute_reply": "2024-03-19T05:46:49.473581Z"
    },
    "papermill": {
     "duration": 3.78931,
     "end_time": "2024-03-19T05:46:49.477302",
     "exception": false,
     "start_time": "2024-03-19T05:46:45.687992",
     "status": "completed"
    },
    "tags": []
   },
   "outputs": [
    {
     "name": "stdout",
     "output_type": "stream",
     "text": [
      "Fitting 5 folds for each of 24 candidates, totalling 120 fits\n",
      "LR Best params: {'C': 1.0, 'max_iter': 800, 'penalty': 'l2'}\n",
      "LR Best score: 0.9054824054406827\n"
     ]
    },
    {
     "name": "stderr",
     "output_type": "stream",
     "text": [
      "/opt/conda/lib/python3.7/site-packages/sklearn/model_selection/_validation.py:372: FitFailedWarning: \n",
      "60 fits failed out of a total of 120.\n",
      "The score on these train-test partitions for these parameters will be set to nan.\n",
      "If these failures are not expected, you can try to debug them by setting error_score='raise'.\n",
      "\n",
      "Below are more details about the failures:\n",
      "--------------------------------------------------------------------------------\n",
      "30 fits failed with the following error:\n",
      "Traceback (most recent call last):\n",
      "  File \"/opt/conda/lib/python3.7/site-packages/sklearn/model_selection/_validation.py\", line 680, in _fit_and_score\n",
      "    estimator.fit(X_train, y_train, **fit_params)\n",
      "  File \"/opt/conda/lib/python3.7/site-packages/sklearn/linear_model/_logistic.py\", line 1461, in fit\n",
      "    solver = _check_solver(self.solver, self.penalty, self.dual)\n",
      "  File \"/opt/conda/lib/python3.7/site-packages/sklearn/linear_model/_logistic.py\", line 449, in _check_solver\n",
      "    % (solver, penalty)\n",
      "ValueError: Solver lbfgs supports only 'l2' or 'none' penalties, got l1 penalty.\n",
      "\n",
      "--------------------------------------------------------------------------------\n",
      "30 fits failed with the following error:\n",
      "Traceback (most recent call last):\n",
      "  File \"/opt/conda/lib/python3.7/site-packages/sklearn/model_selection/_validation.py\", line 680, in _fit_and_score\n",
      "    estimator.fit(X_train, y_train, **fit_params)\n",
      "  File \"/opt/conda/lib/python3.7/site-packages/sklearn/linear_model/_logistic.py\", line 1461, in fit\n",
      "    solver = _check_solver(self.solver, self.penalty, self.dual)\n",
      "  File \"/opt/conda/lib/python3.7/site-packages/sklearn/linear_model/_logistic.py\", line 449, in _check_solver\n",
      "    % (solver, penalty)\n",
      "ValueError: Solver lbfgs supports only 'l2' or 'none' penalties, got elasticnet penalty.\n",
      "\n",
      "  warnings.warn(some_fits_failed_message, FitFailedWarning)\n",
      "/opt/conda/lib/python3.7/site-packages/sklearn/model_selection/_search.py:972: UserWarning: One or more of the test scores are non-finite: [       nan 0.90548241        nan 0.9050944         nan 0.90548241\n",
      "        nan 0.9050944         nan 0.90548241        nan 0.9050944\n",
      "        nan 0.9054336         nan 0.9050944         nan 0.9054336\n",
      "        nan 0.9050944         nan 0.9054336         nan 0.9050944 ]\n",
      "  category=UserWarning,\n"
     ]
    }
   ],
   "source": [
    "# logistic regression\n",
    "lr_csv = hypTune(lr, model_params[\"LR\"])\n",
    "lr_csv.fit(x_train, y_train)\n",
    "print(f'LR Best params: {lr_csv.best_params_}')\n",
    "print(f'LR Best score: {lr_csv.best_score_}')\n",
    "\n",
    "lr = lr_csv.best_estimator_"
   ]
  },
  {
   "cell_type": "markdown",
   "id": "077aa441",
   "metadata": {
    "papermill": {
     "duration": 0.009847,
     "end_time": "2024-03-19T05:46:49.497997",
     "exception": false,
     "start_time": "2024-03-19T05:46:49.488150",
     "status": "completed"
    },
    "tags": []
   },
   "source": [
    "^ errors were because of certain parameters being incompatible with others (ie. solver lbfgs and l1 penalty)"
   ]
  },
  {
   "cell_type": "code",
   "execution_count": 15,
   "id": "960d8f24",
   "metadata": {
    "execution": {
     "iopub.execute_input": "2024-03-19T05:46:49.519496Z",
     "iopub.status.busy": "2024-03-19T05:46:49.519103Z",
     "iopub.status.idle": "2024-03-19T05:46:49.929181Z",
     "shell.execute_reply": "2024-03-19T05:46:49.928176Z"
    },
    "papermill": {
     "duration": 0.423485,
     "end_time": "2024-03-19T05:46:49.931395",
     "exception": false,
     "start_time": "2024-03-19T05:46:49.507910",
     "status": "completed"
    },
    "tags": []
   },
   "outputs": [
    {
     "name": "stdout",
     "output_type": "stream",
     "text": [
      "Fitting 5 folds for each of 24 candidates, totalling 120 fits\n",
      "DT Best params: {'criterion': 'gini', 'max_depth': 3, 'splitter': 'random'}\n",
      "DT Best score: 0.8956087955938947\n"
     ]
    }
   ],
   "source": [
    "# decision tree\n",
    "dt_csv = hypTune(dt, model_params[\"DT\"])\n",
    "dt_csv.fit(x_train, y_train)\n",
    "print(f'DT Best params: {dt_csv.best_params_}')\n",
    "print(f'DT Best score: {dt_csv.best_score_}')\n",
    "\n",
    "dt = dt_csv.best_estimator_\n"
   ]
  },
  {
   "cell_type": "code",
   "execution_count": 16,
   "id": "b5729b0a",
   "metadata": {
    "execution": {
     "iopub.execute_input": "2024-03-19T05:46:49.953126Z",
     "iopub.status.busy": "2024-03-19T05:46:49.952304Z",
     "iopub.status.idle": "2024-03-19T05:46:51.426520Z",
     "shell.execute_reply": "2024-03-19T05:46:51.425482Z"
    },
    "papermill": {
     "duration": 1.487634,
     "end_time": "2024-03-19T05:46:51.428938",
     "exception": false,
     "start_time": "2024-03-19T05:46:49.941304",
     "status": "completed"
    },
    "tags": []
   },
   "outputs": [
    {
     "name": "stdout",
     "output_type": "stream",
     "text": [
      "Fitting 5 folds for each of 100 candidates, totalling 500 fits\n",
      "GNB Best params: {'var_smoothing': 4.3287612810830526e-07}\n",
      "GNB Best score: 0.9123835137100776\n"
     ]
    }
   ],
   "source": [
    "# Gaussian NB\n",
    "gnb_csv = hypTune(gnb, model_params[\"GNB\"])\n",
    "gnb_csv.fit(x_train, y_train)\n",
    "print(f'GNB Best params: {gnb_csv.best_params_}')\n",
    "print(f'GNB Best score: {gnb_csv.best_score_}')\n",
    "\n",
    "gnb = gnb_csv.best_estimator_"
   ]
  },
  {
   "cell_type": "markdown",
   "id": "7a31063b",
   "metadata": {
    "papermill": {
     "duration": 0.010647,
     "end_time": "2024-03-19T05:46:51.450569",
     "exception": false,
     "start_time": "2024-03-19T05:46:51.439922",
     "status": "completed"
    },
    "tags": []
   },
   "source": [
    "**Finally, comparing the scores of each model**"
   ]
  },
  {
   "cell_type": "markdown",
   "id": "0d8ffd5e",
   "metadata": {
    "papermill": {
     "duration": 0.009893,
     "end_time": "2024-03-19T05:46:51.470608",
     "exception": false,
     "start_time": "2024-03-19T05:46:51.460715",
     "status": "completed"
    },
    "tags": []
   },
   "source": [
    "**Creating a method to calculate the score of each model:**"
   ]
  },
  {
   "cell_type": "code",
   "execution_count": 17,
   "id": "5985e653",
   "metadata": {
    "execution": {
     "iopub.execute_input": "2024-03-19T05:46:51.492242Z",
     "iopub.status.busy": "2024-03-19T05:46:51.491873Z",
     "iopub.status.idle": "2024-03-19T05:46:51.500388Z",
     "shell.execute_reply": "2024-03-19T05:46:51.499377Z"
    },
    "papermill": {
     "duration": 0.021773,
     "end_time": "2024-03-19T05:46:51.502499",
     "exception": false,
     "start_time": "2024-03-19T05:46:51.480726",
     "status": "completed"
    },
    "tags": []
   },
   "outputs": [],
   "source": [
    "def getProb(inputVal):\n",
    "    if(inputVal == \"DecisionTree\"):\n",
    "        modelName = dt\n",
    "    elif(inputVal == \"LogisticRegression\"):\n",
    "        modelName = lr\n",
    "    elif(inputVal == \"RandomForest\"):\n",
    "        modelName = rf\n",
    "    elif(inputVal == \"GaussianNB\"):\n",
    "        modelName = gnb\n",
    "        \n",
    "    # calculating the predict probability\n",
    "    pred_test = modelName.predict_proba(x_test)[:, 1]\n",
    "    pred_train = modelName.predict_proba(x_train)[:, 1]\n",
    "\n",
    "    # calculate AUC of model\n",
    "    test_auc = metrics.roc_auc_score(y_test, pred_test)\n",
    "    train_auc = metrics.roc_auc_score(y_train, pred_train)\n",
    "\n",
    "    # print results \n",
    "    print(\"\\n\")\n",
    "    results = {modelName: {'test': test_auc, 'train': train_auc}}\n",
    "    print(results)\n",
    "    print(f'Confusion matrix: {confusion_matrix(y_test, modelName.predict(x_test))}')\n",
    "    print(\"\\n\")\n",
    "    "
   ]
  },
  {
   "cell_type": "code",
   "execution_count": 18,
   "id": "8f4be999",
   "metadata": {
    "execution": {
     "iopub.execute_input": "2024-03-19T05:46:51.524619Z",
     "iopub.status.busy": "2024-03-19T05:46:51.524202Z",
     "iopub.status.idle": "2024-03-19T05:46:51.749755Z",
     "shell.execute_reply": "2024-03-19T05:46:51.748798Z"
    },
    "papermill": {
     "duration": 0.239248,
     "end_time": "2024-03-19T05:46:51.752118",
     "exception": false,
     "start_time": "2024-03-19T05:46:51.512870",
     "status": "completed"
    },
    "tags": []
   },
   "outputs": [
    {
     "name": "stdout",
     "output_type": "stream",
     "text": [
      "\n",
      "\n",
      "{LogisticRegression(max_iter=800): {'test': 0.9277003484320557, 'train': 0.9134150148275324}}\n",
      "Confusion matrix: [[100  12]\n",
      " [ 26 138]]\n",
      "\n",
      "\n",
      "\n",
      "\n",
      "{DecisionTreeClassifier(max_depth=3, splitter='random'): {'test': 0.8994174651567944, 'train': 0.9009189168097393}}\n",
      "Confusion matrix: [[ 96  16]\n",
      " [ 30 134]]\n",
      "\n",
      "\n",
      "\n",
      "\n",
      "{RandomForestClassifier(criterion='entropy', max_depth=4, max_features='log2',\n",
      "                       n_estimators=400): {'test': 0.9409843205574914, 'train': 0.9504350710160762}}\n",
      "Confusion matrix: [[ 98  14]\n",
      " [ 16 148]]\n",
      "\n",
      "\n",
      "\n",
      "\n",
      "{GaussianNB(var_smoothing=4.3287612810830526e-07): {'test': 0.9331990418118468, 'train': 0.9117371624785391}}\n",
      "Confusion matrix: [[ 99  13]\n",
      " [ 21 143]]\n",
      "\n",
      "\n"
     ]
    }
   ],
   "source": [
    "getProb(\"LogisticRegression\")\n",
    "getProb(\"DecisionTree\")\n",
    "getProb(\"RandomForest\")\n",
    "getProb(\"GaussianNB\")"
   ]
  },
  {
   "cell_type": "markdown",
   "id": "fd63bf11",
   "metadata": {
    "papermill": {
     "duration": 0.010239,
     "end_time": "2024-03-19T05:46:51.773012",
     "exception": false,
     "start_time": "2024-03-19T05:46:51.762773",
     "status": "completed"
    },
    "tags": []
   },
   "source": [
    "**Ending thoughts**: most of the classifiers worked well but there was some leakage in classifiers such as logistic regression where the test set performed better than the train set, as well as the gaussian nb. Best one based on this notebook is definitely random forest!"
   ]
  },
  {
   "cell_type": "markdown",
   "id": "76d9a43a",
   "metadata": {
    "papermill": {
     "duration": 0.009905,
     "end_time": "2024-03-19T05:46:51.793176",
     "exception": false,
     "start_time": "2024-03-19T05:46:51.783271",
     "status": "completed"
    },
    "tags": []
   },
   "source": []
  },
  {
   "cell_type": "markdown",
   "id": "27fdfc68",
   "metadata": {
    "papermill": {
     "duration": 0.010008,
     "end_time": "2024-03-19T05:46:51.813628",
     "exception": false,
     "start_time": "2024-03-19T05:46:51.803620",
     "status": "completed"
    },
    "tags": []
   },
   "source": []
  }
 ],
 "metadata": {
  "kaggle": {
   "accelerator": "none",
   "dataSources": [
    {
     "datasetId": 1582403,
     "sourceId": 2603715,
     "sourceType": "datasetVersion"
    }
   ],
   "dockerImageVersionId": 30197,
   "isGpuEnabled": false,
   "isInternetEnabled": false,
   "language": "python",
   "sourceType": "notebook"
  },
  "kernelspec": {
   "display_name": "Python 3",
   "language": "python",
   "name": "python3"
  },
  "language_info": {
   "codemirror_mode": {
    "name": "ipython",
    "version": 3
   },
   "file_extension": ".py",
   "mimetype": "text/x-python",
   "name": "python",
   "nbconvert_exporter": "python",
   "pygments_lexer": "ipython3",
   "version": "3.7.12"
  },
  "papermill": {
   "default_parameters": {},
   "duration": 92.302574,
   "end_time": "2024-03-19T05:46:54.445713",
   "environment_variables": {},
   "exception": null,
   "input_path": "__notebook__.ipynb",
   "output_path": "__notebook__.ipynb",
   "parameters": {},
   "start_time": "2024-03-19T05:45:22.143139",
   "version": "2.3.4"
  }
 },
 "nbformat": 4,
 "nbformat_minor": 5
}
